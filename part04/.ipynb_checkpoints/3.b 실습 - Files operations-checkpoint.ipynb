{
 "cells": [
  {
   "cell_type": "markdown",
   "metadata": {},
   "source": [
    "# <font color='red'> *실습* </font> \n",
    "## <font color='red'> FILES OPERATIONS  </font> "
   ]
  },
  {
   "cell_type": "markdown",
   "metadata": {},
   "source": [
    "#  <font color='blue'>1.fruits_input.txt 파일의 내용을 출력하세요. </font> "
   ]
  },
  {
   "cell_type": "code",
   "execution_count": 1,
   "metadata": {},
   "outputs": [
    {
     "name": "stdout",
     "output_type": "stream",
     "text": [
      "Here is the list of fruits:\n",
      "\n",
      "Start of List\n",
      "\n",
      "Apple\n",
      "Akee\n",
      "Apricot\n",
      "Avocado\n",
      "Banana\n",
      "Bilberry\n",
      "Blackberry\n",
      "Blackcurrant\n",
      "Black sapote\n",
      "Blueberry\n",
      "Boysenberry\n",
      "Buddha's hand (fingered citron)\n",
      "Crab apples\n",
      "Currant\n",
      "Cherry\n",
      "Cherimoya (Custard Apple)\n",
      "Chico fruit\n",
      "Cloudberry\n",
      "Coconut\n",
      "Cranberry\n",
      "Cucumber\n",
      "Damson\n",
      "\n",
      "\n",
      "Date\n",
      "Dragonfruit (or Pitaya)\n",
      "Durian\n",
      "Elderberry\n",
      "Feijoa\n",
      "Fig\n",
      "Goji berry\n",
      "Gooseberry\n",
      "Grape\n",
      "\n",
      "\n",
      "Raisin\n",
      "Grapefruit\n",
      "Guava\n",
      "Honeyberry\n",
      "Huckleberry\n",
      "Jabuticaba\n",
      "Jackfruit\n",
      "Jambul\n",
      "Japanese plum\n",
      "Jostaberry\n",
      "\n",
      "!\n",
      "\n",
      "Jujube\n",
      "Juniper berry\n",
      "Kiwano (horned melon)\n",
      "Kiwifruit\n",
      "Kumquat\n",
      "\n",
      "%\n",
      "\n",
      "Lemon\n",
      "Lime\n",
      "Loquat\n",
      "Longan\n",
      "Lychee\n",
      "Mango\n",
      "Mangosteen\n",
      "Marionberry\n",
      "Melon\n",
      "Cantaloupe\n",
      "Honeydew\n",
      "Watermelon\n",
      "Miracle fruit\n",
      "Mulberry\n",
      "Nectarine\n",
      "Nance\n",
      "Olive\n",
      "Orange\n",
      "Blood orange\n",
      "Clementine\n",
      "Mandarine\n",
      "Tangerine\n",
      "Papaya\n",
      "Passionfruit\n",
      "Peach\n",
      "Pear\n",
      "Persimmon\n",
      "Plantain\n",
      "Plum\n",
      "Prune (dried plum)\n",
      "Pineapple\n",
      "Pineberry\n",
      "Plumcot (or Pluot)\n",
      "Pomegranate\n",
      "Pomelo\n",
      "Purple mangosteen\n",
      "Quince\n",
      "Raspberry\n",
      "Salmonberry\n",
      "Rambutan (or Mamin Chino)\n",
      "Redcurrant\n",
      "Salal berry\n",
      "Salak\n",
      "Satsuma\n",
      "Soursop\n",
      "Star apple\n",
      "Star fruit\n",
      "Strawberry\n",
      "Surinam cherry\n",
      "Tamarillo\n",
      "Tamarind\n",
      "Ugli fruit\n",
      "White currant\n",
      "White sapote\n",
      "Yuzu\n",
      "\n"
     ]
    }
   ],
   "source": [
    "with open('fruits_input.txt', 'r') as file :\n",
    "    print(file.read())"
   ]
  },
  {
   "cell_type": "code",
   "execution_count": null,
   "metadata": {},
   "outputs": [],
   "source": []
  },
  {
   "cell_type": "code",
   "execution_count": null,
   "metadata": {},
   "outputs": [],
   "source": []
  },
  {
   "cell_type": "markdown",
   "metadata": {},
   "source": [
    "#  <font color='blue'>2. fruits_input.txt 파일에서, 줄바꿈('\\n') 및 '' 을 다 제거하세요. 그리고 한문자로 되어있는 문장도 모두 제거하세요. 과일이름만 남도록 하여, 새로 fruits_out.txt 에 저장하세요. </font> "
   ]
  },
  {
   "cell_type": "code",
   "execution_count": null,
   "metadata": {},
   "outputs": [],
   "source": []
  },
  {
   "cell_type": "code",
   "execution_count": 9,
   "metadata": {},
   "outputs": [],
   "source": [
    "fruits_list = []\n",
    "with open('fruits_input.txt', 'r') as file:\n",
    "    for line in file :\n",
    "        if line == '\\n' :\n",
    "            continue\n",
    "        elif line == '':\n",
    "            continue\n",
    "        elif len(line) == 2 :\n",
    "            continue\n",
    "        \n",
    "        fruits_list.append(line)"
   ]
  },
  {
   "cell_type": "code",
   "execution_count": 14,
   "metadata": {},
   "outputs": [],
   "source": [
    "fruits_list = [  word.strip('\\n') for word in fruits_list  ]"
   ]
  },
  {
   "cell_type": "code",
   "execution_count": 16,
   "metadata": {},
   "outputs": [],
   "source": [
    "fruits_list = fruits_list[2: ]"
   ]
  },
  {
   "cell_type": "code",
   "execution_count": 17,
   "metadata": {},
   "outputs": [
    {
     "data": {
      "text/plain": [
       "['Apple',\n",
       " 'Akee',\n",
       " 'Apricot',\n",
       " 'Avocado',\n",
       " 'Banana',\n",
       " 'Bilberry',\n",
       " 'Blackberry',\n",
       " 'Blackcurrant',\n",
       " 'Black sapote',\n",
       " 'Blueberry',\n",
       " 'Boysenberry',\n",
       " \"Buddha's hand (fingered citron)\",\n",
       " 'Crab apples',\n",
       " 'Currant',\n",
       " 'Cherry',\n",
       " 'Cherimoya (Custard Apple)',\n",
       " 'Chico fruit',\n",
       " 'Cloudberry',\n",
       " 'Coconut',\n",
       " 'Cranberry',\n",
       " 'Cucumber',\n",
       " 'Damson',\n",
       " 'Date',\n",
       " 'Dragonfruit (or Pitaya)',\n",
       " 'Durian',\n",
       " 'Elderberry',\n",
       " 'Feijoa',\n",
       " 'Fig',\n",
       " 'Goji berry',\n",
       " 'Gooseberry',\n",
       " 'Grape',\n",
       " 'Raisin',\n",
       " 'Grapefruit',\n",
       " 'Guava',\n",
       " 'Honeyberry',\n",
       " 'Huckleberry',\n",
       " 'Jabuticaba',\n",
       " 'Jackfruit',\n",
       " 'Jambul',\n",
       " 'Japanese plum',\n",
       " 'Jostaberry',\n",
       " 'Jujube',\n",
       " 'Juniper berry',\n",
       " 'Kiwano (horned melon)',\n",
       " 'Kiwifruit',\n",
       " 'Kumquat',\n",
       " 'Lemon',\n",
       " 'Lime',\n",
       " 'Loquat',\n",
       " 'Longan',\n",
       " 'Lychee',\n",
       " 'Mango',\n",
       " 'Mangosteen',\n",
       " 'Marionberry',\n",
       " 'Melon',\n",
       " 'Cantaloupe',\n",
       " 'Honeydew',\n",
       " 'Watermelon',\n",
       " 'Miracle fruit',\n",
       " 'Mulberry',\n",
       " 'Nectarine',\n",
       " 'Nance',\n",
       " 'Olive',\n",
       " 'Orange',\n",
       " 'Blood orange',\n",
       " 'Clementine',\n",
       " 'Mandarine',\n",
       " 'Tangerine',\n",
       " 'Papaya',\n",
       " 'Passionfruit',\n",
       " 'Peach',\n",
       " 'Pear',\n",
       " 'Persimmon',\n",
       " 'Plantain',\n",
       " 'Plum',\n",
       " 'Prune (dried plum)',\n",
       " 'Pineapple',\n",
       " 'Pineberry',\n",
       " 'Plumcot (or Pluot)',\n",
       " 'Pomegranate',\n",
       " 'Pomelo',\n",
       " 'Purple mangosteen',\n",
       " 'Quince',\n",
       " 'Raspberry',\n",
       " 'Salmonberry',\n",
       " 'Rambutan (or Mamin Chino)',\n",
       " 'Redcurrant',\n",
       " 'Salal berry',\n",
       " 'Salak',\n",
       " 'Satsuma',\n",
       " 'Soursop',\n",
       " 'Star apple',\n",
       " 'Star fruit',\n",
       " 'Strawberry',\n",
       " 'Surinam cherry',\n",
       " 'Tamarillo',\n",
       " 'Tamarind',\n",
       " 'Ugli fruit',\n",
       " 'White currant',\n",
       " 'White sapote',\n",
       " 'Yuzu']"
      ]
     },
     "execution_count": 17,
     "metadata": {},
     "output_type": "execute_result"
    }
   ],
   "source": [
    "fruits_list"
   ]
  },
  {
   "cell_type": "code",
   "execution_count": 19,
   "metadata": {},
   "outputs": [],
   "source": [
    "with open('fruits_out.txt', 'w') as file:\n",
    "    for word in fruits_list:\n",
    "        file.write(word + '\\n')"
   ]
  },
  {
   "cell_type": "code",
   "execution_count": null,
   "metadata": {},
   "outputs": [],
   "source": []
  },
  {
   "cell_type": "code",
   "execution_count": null,
   "metadata": {},
   "outputs": [],
   "source": []
  },
  {
   "cell_type": "code",
   "execution_count": null,
   "metadata": {},
   "outputs": [],
   "source": []
  },
  {
   "cell_type": "markdown",
   "metadata": {},
   "source": [
    "#  <font color='blue'>3. fruit_out.txt 에 저장되어 있는 과일과 my_fruits에 있는 과일을 비교하여, my_fruits에 있는 과일이 존재하면, 해당 과일의 이름을 출력하세요.</font> "
   ]
  },
  {
   "cell_type": "code",
   "execution_count": 21,
   "metadata": {},
   "outputs": [],
   "source": [
    "my_fruits = [\"Apple\", \"Pepper\", \"Orange\", \"Watermelon\", \"Tomatoes\"]"
   ]
  },
  {
   "cell_type": "code",
   "execution_count": 24,
   "metadata": {},
   "outputs": [
    {
     "name": "stdout",
     "output_type": "stream",
     "text": [
      "Apple\n",
      "\n",
      "Watermelon\n",
      "\n",
      "Orange\n",
      "\n"
     ]
    }
   ],
   "source": [
    "with open('fruits_out.txt', 'r') as file :\n",
    "    for line in file :\n",
    "        if line.strip('\\n') in my_fruits:\n",
    "            print(line)"
   ]
  },
  {
   "cell_type": "code",
   "execution_count": null,
   "metadata": {},
   "outputs": [],
   "source": []
  },
  {
   "cell_type": "code",
   "execution_count": null,
   "metadata": {},
   "outputs": [],
   "source": []
  },
  {
   "cell_type": "code",
   "execution_count": null,
   "metadata": {},
   "outputs": [],
   "source": []
  },
  {
   "cell_type": "code",
   "execution_count": null,
   "metadata": {},
   "outputs": [],
   "source": []
  },
  {
   "cell_type": "markdown",
   "metadata": {},
   "source": [
    "#  <font color='blue'> 4. 유저한테 다음 문장을 입력받습니다. 유저의 문장에 콤마(,) 가 들어있으면, 이를 잘라서 names_out_file.txt 에 write 하는 프로그램을 작성하세요."
   ]
  },
  {
   "cell_type": "code",
   "execution_count": 25,
   "metadata": {},
   "outputs": [
    {
     "name": "stdout",
     "output_type": "stream",
     "text": [
      "안녕하세요? 저는, 홍길동이고, 나이는 33세 입니다.\n"
     ]
    }
   ],
   "source": [
    "sentence = input()"
   ]
  },
  {
   "cell_type": "code",
   "execution_count": 26,
   "metadata": {},
   "outputs": [],
   "source": [
    "sentence_list = sentence.split(',')"
   ]
  },
  {
   "cell_type": "code",
   "execution_count": 27,
   "metadata": {},
   "outputs": [
    {
     "data": {
      "text/plain": [
       "['안녕하세요? 저는', ' 홍길동이고', ' 나이는 33세 입니다.']"
      ]
     },
     "execution_count": 27,
     "metadata": {},
     "output_type": "execute_result"
    }
   ],
   "source": [
    "sentence_list"
   ]
  },
  {
   "cell_type": "code",
   "execution_count": 29,
   "metadata": {},
   "outputs": [],
   "source": [
    "with open('names_out_file.txt', 'w') as file:\n",
    "    for word in sentence_list:\n",
    "        file.write(word.strip() + '\\n')"
   ]
  },
  {
   "cell_type": "code",
   "execution_count": null,
   "metadata": {},
   "outputs": [],
   "source": []
  },
  {
   "cell_type": "code",
   "execution_count": null,
   "metadata": {},
   "outputs": [],
   "source": []
  },
  {
   "cell_type": "markdown",
   "metadata": {},
   "source": [
    "# <font color='blue'> 5. \"S&P500_Stock_Data.csv\" 파일을 읽어서, (1) HEADING(즉, 맨 위의 데이터를 설명하는 컬럼 이름) 출력, (2) 그 아래 있는 실제 데이터를 맨처음 데이터부터 5개까지만 출력하세요. "
   ]
  },
  {
   "cell_type": "code",
   "execution_count": 30,
   "metadata": {},
   "outputs": [],
   "source": [
    "import csv"
   ]
  },
  {
   "cell_type": "code",
   "execution_count": 31,
   "metadata": {},
   "outputs": [],
   "source": [
    "with open('S&P500_Stock_Data.csv', 'r') as csvfile:\n",
    "    csv_data = csv.reader(csvfile)\n",
    "    stock_data = list(csv_data)"
   ]
  },
  {
   "cell_type": "code",
   "execution_count": 33,
   "metadata": {},
   "outputs": [
    {
     "data": {
      "text/plain": [
       "1001"
      ]
     },
     "execution_count": 33,
     "metadata": {},
     "output_type": "execute_result"
    }
   ],
   "source": [
    "len(stock_data)"
   ]
  },
  {
   "cell_type": "code",
   "execution_count": 35,
   "metadata": {},
   "outputs": [
    {
     "name": "stdout",
     "output_type": "stream",
     "text": [
      "['Interest Rates', 'Employment', 'S&P 500 Price']\n"
     ]
    }
   ],
   "source": [
    "print(stock_data[0])"
   ]
  },
  {
   "cell_type": "code",
   "execution_count": 36,
   "metadata": {},
   "outputs": [
    {
     "name": "stdout",
     "output_type": "stream",
     "text": [
      "[['1.943859273', '55.41357113', '2206.680582'], ['2.258228944', '59.54630512', '2486.474488'], ['2.215862783', '57.41468676', '2405.868337'], ['1.977959542', '49.90835272', '2140.434475'], ['2.437722808', '52.03549192', '2411.275663']]\n"
     ]
    }
   ],
   "source": [
    "print(stock_data[1:6])"
   ]
  },
  {
   "cell_type": "code",
   "execution_count": null,
   "metadata": {},
   "outputs": [],
   "source": []
  },
  {
   "cell_type": "code",
   "execution_count": null,
   "metadata": {},
   "outputs": [],
   "source": []
  },
  {
   "cell_type": "markdown",
   "metadata": {},
   "source": [
    "# <font color='blue'> 6. 유저가 문장을 입력하고 엔터를 치면, recoding.txt 파일에 유저가 입력한 문장을 저장합니다. 단, 유저가 \"STOP\"이라는 문장을 입력할 때까지, 계속 유저의 입력을 받아서, 파일에 저장하는 프로그램을 작성하세요.  "
   ]
  },
  {
   "cell_type": "code",
   "execution_count": 40,
   "metadata": {},
   "outputs": [
    {
     "name": "stdout",
     "output_type": "stream",
     "text": [
      "문장 입력 : \n",
      "문장 입력 : 안녕하세요\n",
      "문장 입력 : 홍길동입니다.\n",
      "문장 입력 : STOP\n"
     ]
    }
   ],
   "source": [
    "while True : \n",
    "    sentence = input('문장 입력 : ')\n",
    "    if sentence == 'STOP' :\n",
    "        break\n",
    "    \n",
    "    with open('recoding.txt', 'a') as file:\n",
    "        file.write(sentence+'\\n')"
   ]
  },
  {
   "cell_type": "code",
   "execution_count": null,
   "metadata": {},
   "outputs": [],
   "source": []
  },
  {
   "cell_type": "code",
   "execution_count": null,
   "metadata": {},
   "outputs": [],
   "source": []
  }
 ],
 "metadata": {
  "kernelspec": {
   "display_name": "Python 3",
   "language": "python",
   "name": "python3"
  },
  "language_info": {
   "codemirror_mode": {
    "name": "ipython",
    "version": 3
   },
   "file_extension": ".py",
   "mimetype": "text/x-python",
   "name": "python",
   "nbconvert_exporter": "python",
   "pygments_lexer": "ipython3",
   "version": "3.7.1"
  }
 },
 "nbformat": 4,
 "nbformat_minor": 2
}
